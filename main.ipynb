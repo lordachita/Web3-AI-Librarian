{
 "cells": [
  {
   "cell_type": "code",
   "execution_count": 1,
   "metadata": {},
   "outputs": [],
   "source": [
    "from backend.graphs import Graph\n",
    "from backend.utils import load_env\n",
    "load_env()"
   ]
  },
  {
   "cell_type": "code",
   "execution_count": 2,
   "metadata": {},
   "outputs": [],
   "source": [
    "prompt = (\n",
    "    \"What is the key difference between Sahara, Story and Sentient projects?\"\n",
    ")"
   ]
  },
  {
   "cell_type": "code",
   "execution_count": 3,
   "metadata": {},
   "outputs": [],
   "source": [
    "graph = Graph(is_memory = False)"
   ]
  },
  {
   "cell_type": "code",
   "execution_count": 4,
   "metadata": {},
   "outputs": [
    {
     "name": "stdout",
     "output_type": "stream",
     "text": [
      "{'document_searcher': {'documents': [AIMessage(content='Sahara AI is developing a decentralized blockchain platform designed to democratize access to AI technology by enabling the collaborative creation, ownership, and equitable sharing of AI assets. By utilizing blockchain technology, Sahara AI seeks to address issues like centralized control, privacy concerns, and economic disparities inherent in current AI ecosystems, fostering a more open, secure, and inclusive environment. It offers a comprehensive infrastructure with development tools, a decentralized AI Marketplace, and protocols that ensure transparency, attribution, and fair compensation for contributors.\\n\\nThe project aims to build an AI ecosystem characterized by decentralized governance, community-driven innovation, and equitable economic participation, ensuring that everyone from individual contributors to enterprises can engage in AI development and benefit from its advancements. Sahara AI envisions transforming AI from being controlled by a few into a shared global resource, promoting open collaboration and ethical practices while protecting user privacy and granting control over AI assets.', additional_kwargs={'refusal': None}, response_metadata={'token_usage': {'completion_tokens': 175, 'prompt_tokens': 12850, 'total_tokens': 13025, 'completion_tokens_details': {'accepted_prediction_tokens': 0, 'audio_tokens': 0, 'reasoning_tokens': 0, 'rejected_prediction_tokens': 0}, 'prompt_tokens_details': {'audio_tokens': 0, 'cached_tokens': 12672}}, 'model_name': 'gpt-4o-2024-08-06', 'system_fingerprint': 'fp_50cad350e4', 'finish_reason': 'stop', 'logprobs': None}, id='run-f92eb5f4-2eec-4006-bbde-8ce7e5044284-0', usage_metadata={'input_tokens': 12850, 'output_tokens': 175, 'total_tokens': 13025, 'input_token_details': {'audio': 0, 'cache_read': 12672}, 'output_token_details': {'audio': 0, 'reasoning': 0}}), AIMessage(content='**Summary:**\\n\\nThe project introduces \"Story,\" a peer-to-peer intellectual property (IP) network that aims to create a market for knowledge and creativity by registering scientific and creative assets on a universal ledger with customizable terms. These assets can be used and monetized across the internet through a decentralized network, which evaluates the uniqueness of each IP asset using a decentralized validation service incentivized by crypto-economic principles. By providing an open, permissionless repository of knowledge and creativity, Story allows IP transactions without centralized intermediaries, promoting direct trade and monetization of ideas.\\n\\nThe project seeks to build a decentralized blockchain with a multi-core execution environment optimized for intellectual property registration and management. This architecture supports various specialized cores for handling complex IP relationship graphs, enabling efficient operations like IP validation, licensing, and monetization. Additionally, the project envisions integrating future cores to expand its functionalities, making it a foundation for artificial intelligence transactions and broader economic interactions across the internet.', additional_kwargs={'refusal': None}, response_metadata={'token_usage': {'completion_tokens': 190, 'prompt_tokens': 6945, 'total_tokens': 7135, 'completion_tokens_details': {'accepted_prediction_tokens': 0, 'audio_tokens': 0, 'reasoning_tokens': 0, 'rejected_prediction_tokens': 0}, 'prompt_tokens_details': {'audio_tokens': 0, 'cached_tokens': 6784}}, 'model_name': 'gpt-4o-2024-08-06', 'system_fingerprint': 'fp_50cad350e4', 'finish_reason': 'stop', 'logprobs': None}, id='run-51bd6a3f-88f0-4cd3-a2c3-5fda81da5b09-0', usage_metadata={'input_tokens': 6945, 'output_tokens': 190, 'total_tokens': 7135, 'input_token_details': {'audio': 0, 'cache_read': 6784}, 'output_token_details': {'audio': 0, 'reasoning': 0}})]}}\n",
      "---\n",
      "Answer {'messages': [HumanMessage(content='What is the key difference between Sahara, Story and Sentient projects?', additional_kwargs={}, response_metadata={}, id='ac923f8a-2491-4bde-b4fb-07a8e18834d2')], 'documents': [AIMessage(content='Sahara AI is developing a decentralized blockchain platform designed to democratize access to AI technology by enabling the collaborative creation, ownership, and equitable sharing of AI assets. By utilizing blockchain technology, Sahara AI seeks to address issues like centralized control, privacy concerns, and economic disparities inherent in current AI ecosystems, fostering a more open, secure, and inclusive environment. It offers a comprehensive infrastructure with development tools, a decentralized AI Marketplace, and protocols that ensure transparency, attribution, and fair compensation for contributors.\\n\\nThe project aims to build an AI ecosystem characterized by decentralized governance, community-driven innovation, and equitable economic participation, ensuring that everyone from individual contributors to enterprises can engage in AI development and benefit from its advancements. Sahara AI envisions transforming AI from being controlled by a few into a shared global resource, promoting open collaboration and ethical practices while protecting user privacy and granting control over AI assets.', additional_kwargs={'refusal': None}, response_metadata={'token_usage': {'completion_tokens': 175, 'prompt_tokens': 12850, 'total_tokens': 13025, 'completion_tokens_details': {'accepted_prediction_tokens': 0, 'audio_tokens': 0, 'reasoning_tokens': 0, 'rejected_prediction_tokens': 0}, 'prompt_tokens_details': {'audio_tokens': 0, 'cached_tokens': 12672}}, 'model_name': 'gpt-4o-2024-08-06', 'system_fingerprint': 'fp_50cad350e4', 'finish_reason': 'stop', 'logprobs': None}, id='run-f92eb5f4-2eec-4006-bbde-8ce7e5044284-0', usage_metadata={'input_tokens': 12850, 'output_tokens': 175, 'total_tokens': 13025, 'input_token_details': {'audio': 0, 'cache_read': 12672}, 'output_token_details': {'audio': 0, 'reasoning': 0}}), AIMessage(content='**Summary:**\\n\\nThe project introduces \"Story,\" a peer-to-peer intellectual property (IP) network that aims to create a market for knowledge and creativity by registering scientific and creative assets on a universal ledger with customizable terms. These assets can be used and monetized across the internet through a decentralized network, which evaluates the uniqueness of each IP asset using a decentralized validation service incentivized by crypto-economic principles. By providing an open, permissionless repository of knowledge and creativity, Story allows IP transactions without centralized intermediaries, promoting direct trade and monetization of ideas.\\n\\nThe project seeks to build a decentralized blockchain with a multi-core execution environment optimized for intellectual property registration and management. This architecture supports various specialized cores for handling complex IP relationship graphs, enabling efficient operations like IP validation, licensing, and monetization. Additionally, the project envisions integrating future cores to expand its functionalities, making it a foundation for artificial intelligence transactions and broader economic interactions across the internet.', additional_kwargs={'refusal': None}, response_metadata={'token_usage': {'completion_tokens': 190, 'prompt_tokens': 6945, 'total_tokens': 7135, 'completion_tokens_details': {'accepted_prediction_tokens': 0, 'audio_tokens': 0, 'reasoning_tokens': 0, 'rejected_prediction_tokens': 0}, 'prompt_tokens_details': {'audio_tokens': 0, 'cached_tokens': 6784}}, 'model_name': 'gpt-4o-2024-08-06', 'system_fingerprint': 'fp_50cad350e4', 'finish_reason': 'stop', 'logprobs': None}, id='run-51bd6a3f-88f0-4cd3-a2c3-5fda81da5b09-0', usage_metadata={'input_tokens': 6945, 'output_tokens': 190, 'total_tokens': 7135, 'input_token_details': {'audio': 0, 'cache_read': 6784}, 'output_token_details': {'audio': 0, 'reasoning': 0}})]}\n",
      "{'answer': {'messages': [AIMessage(content=\"The key differences between the Sahara, Story, and Sentient projects are as follows:\\n\\n1. **Sahara AI**:\\n   - **Objective**: Aims to create a decentralized blockchain platform to democratize access to AI technology.\\n   - **Features**: Focuses on collaborative creation, ownership, and equitable sharing of AI assets. It emphasizes decentralized governance, community-driven innovation, privacy protection, and fair compensation for contributors.\\n   - **Technology**: Utilizes blockchain to address centralized control, privacy, and economic disparities in AI ecosystems.\\n\\n2. **Story**:\\n   - **Objective**: Establishes a peer-to-peer network for registering and monetizing intellectual property (IP).\\n   - **Features**: Provides a universal ledger for scientific and creative assets, facilitating IP validation, licensing, and monetization without centralized intermediaries.\\n   - **Technology**: Includes a blockchain with a multi-core execution environment to manage complex IP operations and interactions, supporting open and direct transactions.\\n\\n3. **Sentient** (not mentioned directly in the provided context):\\n   - If Sentient was part of the provided context, additional documents or summaries are needed to provide specific details. Generally, Sentient projects might involve AI or blockchain technology focusing on autonomous systems or decentralized networks, but this would need clarification based on content.\\n\\nIn summary, Sahara AI focuses on decentralizing AI technology, Story emphasizes IP management, and Sentient's focus would need further information for precise differentiation.\", additional_kwargs={'refusal': None}, response_metadata={'token_usage': {'completion_tokens': 294, 'prompt_tokens': 914, 'total_tokens': 1208, 'completion_tokens_details': {'accepted_prediction_tokens': 0, 'audio_tokens': 0, 'reasoning_tokens': 0, 'rejected_prediction_tokens': 0}, 'prompt_tokens_details': {'audio_tokens': 0, 'cached_tokens': 0}}, 'model_name': 'gpt-4o-2024-08-06', 'system_fingerprint': 'fp_50cad350e4', 'finish_reason': 'stop', 'logprobs': None}, id='run-90229d30-4c94-4d6a-9b30-0164d2b131a6-0', usage_metadata={'input_tokens': 914, 'output_tokens': 294, 'total_tokens': 1208, 'input_token_details': {'audio': 0, 'cache_read': 0}, 'output_token_details': {'audio': 0, 'reasoning': 0}})]}}\n",
      "---\n"
     ]
    }
   ],
   "source": [
    "s = graph.stream(prompt)"
   ]
  },
  {
   "cell_type": "code",
   "execution_count": 5,
   "metadata": {},
   "outputs": [
    {
     "name": "stdout",
     "output_type": "stream",
     "text": [
      "The key differences between the Sahara, Story, and Sentient projects are as follows:\n",
      "\n",
      "1. **Sahara AI**:\n",
      "   - **Objective**: Aims to create a decentralized blockchain platform to democratize access to AI technology.\n",
      "   - **Features**: Focuses on collaborative creation, ownership, and equitable sharing of AI assets. It emphasizes decentralized governance, community-driven innovation, privacy protection, and fair compensation for contributors.\n",
      "   - **Technology**: Utilizes blockchain to address centralized control, privacy, and economic disparities in AI ecosystems.\n",
      "\n",
      "2. **Story**:\n",
      "   - **Objective**: Establishes a peer-to-peer network for registering and monetizing intellectual property (IP).\n",
      "   - **Features**: Provides a universal ledger for scientific and creative assets, facilitating IP validation, licensing, and monetization without centralized intermediaries.\n",
      "   - **Technology**: Includes a blockchain with a multi-core execution environment to manage complex IP operations and interactions, supporting open and direct transactions.\n",
      "\n",
      "3. **Sentient** (not mentioned directly in the provided context):\n",
      "   - If Sentient was part of the provided context, additional documents or summaries are needed to provide specific details. Generally, Sentient projects might involve AI or blockchain technology focusing on autonomous systems or decentralized networks, but this would need clarification based on content.\n",
      "\n",
      "In summary, Sahara AI focuses on decentralizing AI technology, Story emphasizes IP management, and Sentient's focus would need further information for precise differentiation.\n"
     ]
    }
   ],
   "source": [
    "final_answer = s[-1]['answer']['messages'][0].content\n",
    "print(final_answer)"
   ]
  }
 ],
 "metadata": {
  "kernelspec": {
   "display_name": "Python 3",
   "language": "python",
   "name": "python3"
  },
  "language_info": {
   "codemirror_mode": {
    "name": "ipython",
    "version": 3
   },
   "file_extension": ".py",
   "mimetype": "text/x-python",
   "name": "python",
   "nbconvert_exporter": "python",
   "pygments_lexer": "ipython3",
   "version": "3.12.9"
  }
 },
 "nbformat": 4,
 "nbformat_minor": 2
}
